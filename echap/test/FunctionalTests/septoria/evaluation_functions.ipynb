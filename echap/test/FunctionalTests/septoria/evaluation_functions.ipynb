{
 "metadata": {
  "name": "",
  "signature": "sha256:709e9881aef146fbd7fb3ad681919d1adbcf8edd0dbf575e33838b38027b4a1c"
 },
 "nbformat": 3,
 "nbformat_minor": 0,
 "worksheets": [
  {
   "cells": [
    {
     "cell_type": "heading",
     "level": 1,
     "metadata": {},
     "source": [
      "Functions to compare simulations and observations of septoria on Wheat in Grignon 2011, 2012 & 2013"
     ]
    },
    {
     "cell_type": "code",
     "collapsed": false,
     "input": [
      "%matplotlib inline\n",
      "import warnings\n",
      "warnings.filterwarnings('ignore')"
     ],
     "language": "python",
     "metadata": {},
     "outputs": [],
     "prompt_number": 1
    },
    {
     "cell_type": "code",
     "collapsed": false,
     "input": [
      "from alinea.alep.disease_outputs import *\n",
      "from alinea.echap.disease.septo_data_reader import *\n",
      "from alinea.echap.disease.septo_data_treatment import *\n",
      "from alinea.echap.disease.alep_septo_evaluation import *"
     ],
     "language": "python",
     "metadata": {},
     "outputs": [],
     "prompt_number": 2
    },
    {
     "cell_type": "heading",
     "level": 2,
     "metadata": {},
     "source": [
      "Get results of simulation in same format as observations"
     ]
    },
    {
     "cell_type": "code",
     "collapsed": false,
     "input": [
      "def recorder_to_dataframe(recorder, weather = None, adel = None, skipna = True):\n",
      "    \"\"\" Translate recorder object in DataFrame with the same format as disease notations \"\"\"\n",
      "    recos = []\n",
      "    for pl, rec_pl in recorder.iteritems():\n",
      "        for lf, rec_lf in rec_pl.iteritems():\n",
      "            rec_lf.data['plant'] = int(pl[1:])\n",
      "            rec_lf.data['num_leaf_top'] = int(lf[1:])\n",
      "            rec_lf.data['num_leaf_ref'] = int(lf[1:])\n",
      "            rec_lf.data['num_leaf_bottom'] = len(rec_pl) - int(lf[1:]) + 1\n",
      "            rec_lf.data['variety'] = 'tremie'\n",
      "            rec_lf.data = rec_lf.data.rename(columns = {'date_sequence':'datetime'})\n",
      "            # Temp : to move in disease outputs\n",
      "            rec_lf.data['pycnidia_coverage'] = (rec_lf.data['ratio_spo'] + rec_lf.data['ratio_empty'])*100\n",
      "            rec_lf.data['pycnidia_coverage_on_green'] = (rec_lf.data['ratio_spo'] + rec_lf.data['ratio_empty'])*100\n",
      "            recos.append(rec_lf.data)\n",
      "    data_sim = pd.concat(recos)\n",
      "    \n",
      "    # Convert ratios in percentage\n",
      "    list_of_ratios = [var for var in data_sim.columns if var.startswith('ratio')]+['severity', 'necrosis_percentage']\n",
      "    data_sim[list_of_ratios] = data_sim[list_of_ratios].apply(lambda x: x*100.)\n",
      "    \n",
      "    # Add leaf dates\n",
      "    if adel is not None and weather is not None:\n",
      "        filename = find_dates_filename(weather)\n",
      "        data_sim = add_leaf_dates_to_data(data_sim, adel, filename = filename)\n",
      "    \n",
      "    # Ignore data from dates with dead leaves in each layer\n",
      "    if skipna == True:\n",
      "        df_count = table_count_notations(data_sim, weather, variable = 'severity', add_ddays = True)\n",
      "        for lf in df_count.columns:\n",
      "            df_lf = df_count[lf][map(lambda x: isinstance(x, (int, float)), df_count[lf])]\n",
      "            nan_dates = df_lf[df_lf<df_lf.max()].reset_index().loc[:,'Date']\n",
      "            if len(nan_dates)>0:\n",
      "                for variable in data_sim.columns:\n",
      "                    if variable not in ['datetime', 'degree_days', 'date_death', 'variety', 'plant', 'num_leaf_top', 'num_leaf_bottom']:\n",
      "                        data_sim[variable][(data_sim['num_leaf_top']==lf) & (data_sim['datetime'].isin([d for d in nan_dates]))] = np.nan\n",
      "    return data_sim"
     ],
     "language": "python",
     "metadata": {},
     "outputs": [],
     "prompt_number": 5
    },
    {
     "cell_type": "code",
     "collapsed": false,
     "input": [
      "def get_data_sim(filename = 'recorder_2012_30pl_7sect_frac2e-4.pckl', weather = None, adel =None, skipna = True):\n",
      "    recorder = get_recorder('../alep/example/tremie/' + filename)\n",
      "    return recorder_to_dataframe(recorder, weather = weather, adel = adel, skipna = skipna)"
     ],
     "language": "python",
     "metadata": {},
     "outputs": [],
     "prompt_number": 6
    },
    {
     "cell_type": "code",
     "collapsed": false,
     "input": [
      "# TODO DELETE\n",
      "def get_data_obs(year = 2012, variety = 'Tremie12', \n",
      "                 from_file = 'control', \n",
      "                 wetness_duration_min = 10., temp_min = 0., temp_max = 25.):\n",
      "    \"\"\" Return data_obs, weather and wheat mock up \"\"\"\n",
      "    return data_reader(year = year, variety = variety, \n",
      "                        from_file = from_file, \n",
      "                        wetness_duration_min = wetness_duration_min,\n",
      "                        temp_min = temp_min, temp_max = temp_max)"
     ],
     "language": "python",
     "metadata": {},
     "outputs": [],
     "prompt_number": 5
    },
    {
     "cell_type": "heading",
     "level": 2,
     "metadata": {},
     "source": [
      "Data manipulation on simulation results"
     ]
    },
    {
     "cell_type": "code",
     "collapsed": false,
     "input": [
      "def get_df_dates_xaxis(data, xaxis):\n",
      "    if xaxis == 'age_leaf':\n",
      "        date_name = 'date_emergence_leaf'\n",
      "    elif xaxis == 'age_leaf_lig':\n",
      "        date_name = 'date_ligulation_leaf'\n",
      "    elif xaxis == 'age_leaf_vs_flag_lig':\n",
      "        date_name = 'date_ligulation_flag_leaf'\n",
      "    df_dates = pd.DataFrame(index = set(data['num_leaf_top']))\n",
      "    df_dates[xaxis] = map(lambda x: np.mean(data[date_name][data['num_leaf_top']==x]), df_dates.index)\n",
      "    return df_dates"
     ],
     "language": "python",
     "metadata": {},
     "outputs": [],
     "prompt_number": 8
    },
    {
     "cell_type": "code",
     "collapsed": false,
     "input": [
      "def get_mean_one_leaf_sim(df, variable = 'severity', xaxis = 'degree_days',\n",
      "                          num_leaf = 1, from_top = True):\n",
      "    \"\"\" Get average of input variable on input leaf over all plants in simulated canopy \"\"\"\n",
      "    if from_top == True:\n",
      "        df = df[df['num_leaf_top'] == num_leaf]\n",
      "    else:\n",
      "        df = df[df['num_leaf_bottom'] == num_leaf]\n",
      "    if xaxis in ['datetime', 'degree_days']:\n",
      "        return df.groupby(xaxis).mean()[variable]\n",
      "    elif xaxis in ['age_leaf', 'age_leaf_lig', 'age_leaf_vs_flag_lig']:\n",
      "        df_mean = df.groupby('degree_days').mean()[variable]\n",
      "        df_dates = get_df_dates_xaxis(df, xaxis)\n",
      "        df_mean.index -= df_dates.loc[num_leaf, xaxis]\n",
      "        return df_mean"
     ],
     "language": "python",
     "metadata": {},
     "outputs": [],
     "prompt_number": 9
    },
    {
     "cell_type": "code",
     "collapsed": false,
     "input": [
      "def get_df_mean_sim(data_sim, variable = 'severity', xaxis = 'degree_days', leaves = range(1,14)):\n",
      "    \"\"\" Get average for given variable over xaxis for all given leaves \"\"\"\n",
      "    dfs = []\n",
      "    for lf in leaves:\n",
      "        df_mean_lf = get_mean_one_leaf_sim(data_sim, variable = variable, xaxis = xaxis, num_leaf = lf, from_top = True)\n",
      "        df_mean_lf = df_mean_lf.to_frame()\n",
      "        df_mean_lf.columns = [lf]\n",
      "        dfs.append(df_mean_lf)\n",
      "    return pd.concat(dfs, axis = 1)"
     ],
     "language": "python",
     "metadata": {},
     "outputs": [],
     "prompt_number": 10
    },
    {
     "cell_type": "code",
     "collapsed": false,
     "input": [
      "def get_mean_rmse(df_mean_obs, df_mean_sim, num_leaf):\n",
      "    \"\"\" Get mean RMSE between observation data and simulation results \"\"\"\n",
      "    notnull_obs = df_mean_obs[num_leaf][df_mean_obs[num_leaf].notnull()]\n",
      "    nearest_sim = [df_mean_sim[num_leaf].iloc[np.abs(np.array(df_mean_sim.index) - ind).argmin()] for ind in notnull_obs.index]\n",
      "    return numpy.sqrt(((nearest_sim - notnull_obs) ** 2).mean())"
     ],
     "language": "python",
     "metadata": {},
     "outputs": [],
     "prompt_number": 11
    },
    {
     "cell_type": "heading",
     "level": 2,
     "metadata": {},
     "source": [
      "Plotting"
     ]
    },
    {
     "cell_type": "code",
     "collapsed": false,
     "input": [
      "def plot_one_leaf_sim(data_sim, variable = 'severity', xaxis = 'degree_days',\n",
      "                      num_leaf = 1, from_top = True, ax = None, return_df_mean = True,\n",
      "                      color = 'r', linestyle = '-', marker = ''):\n",
      "    \"\"\" Plot input variable versus input axis \"\"\"\n",
      "    if ax is None:\n",
      "        fig, ax = plt.subplots(1)\n",
      "    df_mean_sim = get_mean_one_leaf_sim(df = data_sim, variable = variable, xaxis = xaxis,\n",
      "                                        num_leaf = num_leaf, from_top = from_top)\n",
      "    ax.plot(df_mean_sim.index, df_mean_sim, \n",
      "            color = color, linestyle = linestyle, marker = marker)\n",
      "    if return_df_mean == True:\n",
      "        return df_mean_sim"
     ],
     "language": "python",
     "metadata": {},
     "outputs": [],
     "prompt_number": 12
    },
    {
     "cell_type": "code",
     "collapsed": false,
     "input": [
      "def plot_mean_by_leaf_sim(data_sim, variable = 'severity', leaves = range(1,14), \n",
      "                          xaxis = 'degree_days', ax = None, xlims = None,\n",
      "                          ylims = None, fig_size = (8,6), grid = True):\n",
      "    \"\"\" Plot average of given variable on given separate leaves for all plants \"\"\"    \n",
      "    df_mean = get_df_mean_sim(data_sim, variable = variable, xaxis = xaxis, leaves = leaves)\n",
      "    if ax == None:\n",
      "        fig, ax = plt.subplots(1, figsize = fig_size)\n",
      "    for leaf in df_mean.columns:\n",
      "        x_data = df_mean.index[~np.isnan(df_mean.ix[:,leaf])]\n",
      "        ax.plot(x_data, df_mean.loc[:, leaf][~np.isnan(df_mean.ix[:,leaf])])\n",
      "    \n",
      "    # Customize plot\n",
      "    if ylims is not None:\n",
      "        ax.set_ylim(ylims)\n",
      "    if xlims is not None:\n",
      "        ax.set_xlim(xlims)\n",
      "    if grid == True:\n",
      "        ax.grid()\n",
      "    ax.legend(leaves, title = 'Leaf\\nnumber', loc='center left', bbox_to_anchor=(1, 0.5))"
     ],
     "language": "python",
     "metadata": {},
     "outputs": [],
     "prompt_number": 13
    },
    {
     "cell_type": "code",
     "collapsed": false,
     "input": [
      "def plot_comparison_sim_obs(data_obs, data_sim, weather, variable='severity', xaxis = 'degree_days',\n",
      "                            leaves = range(1,7), xlims = [1000, 2200], display_confidence = False, display_rmse = False):\n",
      "    df_mean_obs, df_low, df_high, fig, axs = plot_confidence_and_boxplot(data_obs, weather,  leaves = leaves,\n",
      "                                                                         variable = variable, xaxis = xaxis,\n",
      "                                                                         xlims = xlims, return_fig = True)\n",
      "    if variable == 'severity':\n",
      "        variable = 'pycnidia_coverage'\n",
      "    \n",
      "    if display_confidence == True:\n",
      "        df_mean_sim, df_low, df_high, fig, axs = plot_confidence_and_boxplot(data_sim, weather, leaves = leaves,\n",
      "                                                                             variable = variable, xaxis = xaxis,\n",
      "                                                                             xlims = xlims, marker ='', fixed_color = 'r',\n",
      "                                                                             fig = fig, axs = axs,\n",
      "                                                                             display_box = False, return_fig = True)\n",
      "    else:\n",
      "        df_mean_sim = get_df_mean_sim(data_sim, variable = variable, xaxis = xaxis, leaves = leaves)\n",
      "        for i, ax in enumerate(axs.flat):\n",
      "            leaf = i+1\n",
      "            x_data = df_mean_sim.index[~np.isnan(df_mean_sim.ix[:,leaf])]\n",
      "            ax.plot(x_data, df_mean_sim.loc[:, leaf][~np.isnan(df_mean_sim.ix[:,leaf])], 'r')\n",
      "            if display_rmse == True:\n",
      "                ax.annotate('RMSE : %.2f' %get_mean_rmse(df_mean_obs, df_mean_sim, num_leaf = leaf), xy=(0.05, 0.75),\n",
      "                            xycoords='axes fraction', fontsize=14)"
     ],
     "language": "python",
     "metadata": {},
     "outputs": [],
     "prompt_number": 14
    },
    {
     "cell_type": "code",
     "collapsed": false,
     "input": [
      "data_obs, weather = get_data_obs()"
     ],
     "language": "python",
     "metadata": {},
     "outputs": [],
     "prompt_number": 6
    },
    {
     "cell_type": "code",
     "collapsed": false,
     "input": [
      "#data_sim = get_data_sim('recorder_2012_30pl_7sect_frac2e-4_lat330.pckl', weather, adel)\n",
      "#data_sim = get_data_sim('recorder_2012_30pl_7sect_frac2e-4.pckl', weather, adel)\n",
      "data_sim = get_data_sim('recorder_stabtest_tremie12_30pl.pckl', weather)\n",
      "#data_sim_var = get_data_sim('recorder_2012_30pl_7sect_frac2e-4_var.pckl', weather, adel)"
     ],
     "language": "python",
     "metadata": {},
     "outputs": [
      {
       "ename": "IOError",
       "evalue": "[Errno 2] No such file or directory: 'recorder_stabtest_tremie12_30pl.pckl'",
       "output_type": "pyerr",
       "traceback": [
        "\u001b[1;31m---------------------------------------------------------------------------\u001b[0m\n\u001b[1;31mIOError\u001b[0m                                   Traceback (most recent call last)",
        "\u001b[1;32m<ipython-input-8-710aa1f722a0>\u001b[0m in \u001b[0;36m<module>\u001b[1;34m()\u001b[0m\n\u001b[0;32m      1\u001b[0m \u001b[1;31m#data_sim = get_data_sim('recorder_2012_30pl_7sect_frac2e-4_lat330.pckl', weather, adel)\u001b[0m\u001b[1;33m\u001b[0m\u001b[1;33m\u001b[0m\u001b[0m\n\u001b[0;32m      2\u001b[0m \u001b[1;31m#data_sim = get_data_sim('recorder_2012_30pl_7sect_frac2e-4.pckl', weather, adel)\u001b[0m\u001b[1;33m\u001b[0m\u001b[1;33m\u001b[0m\u001b[0m\n\u001b[1;32m----> 3\u001b[1;33m \u001b[0mdata_sim\u001b[0m \u001b[1;33m=\u001b[0m \u001b[0mget_data_sim\u001b[0m\u001b[1;33m(\u001b[0m\u001b[1;34m'recorder_stabtest_tremie12_30pl.pckl'\u001b[0m\u001b[1;33m,\u001b[0m \u001b[0mweather\u001b[0m\u001b[1;33m)\u001b[0m\u001b[1;33m\u001b[0m\u001b[0m\n\u001b[0m\u001b[0;32m      4\u001b[0m \u001b[1;31m#data_sim_var = get_data_sim('recorder_2012_30pl_7sect_frac2e-4_var.pckl', weather, adel)\u001b[0m\u001b[1;33m\u001b[0m\u001b[1;33m\u001b[0m\u001b[0m\n",
        "\u001b[1;32md:\\openaleapkg\\echap\\src\\alinea\\echap\\disease\\alep_septo_evaluation.pyc\u001b[0m in \u001b[0;36mget_data_sim\u001b[1;34m(filename, weather, adel, skipna)\u001b[0m\n\u001b[0;32m     93\u001b[0m def get_data_sim(filename = '../alep/example/tremie/recorder_2012_30pl_7sect_frac2e-4.pckl',\n\u001b[0;32m     94\u001b[0m                  weather = None, adel =None, skipna = True):\n\u001b[1;32m---> 95\u001b[1;33m     \u001b[0mrecorder\u001b[0m \u001b[1;33m=\u001b[0m \u001b[0mget_recorder\u001b[0m\u001b[1;33m(\u001b[0m\u001b[0mfilename\u001b[0m\u001b[1;33m)\u001b[0m\u001b[1;33m\u001b[0m\u001b[0m\n\u001b[0m\u001b[0;32m     96\u001b[0m     \u001b[1;32mreturn\u001b[0m \u001b[0mrecorder_to_dataframe\u001b[0m\u001b[1;33m(\u001b[0m\u001b[0mrecorder\u001b[0m\u001b[1;33m,\u001b[0m \u001b[0mweather\u001b[0m \u001b[1;33m=\u001b[0m \u001b[0mweather\u001b[0m\u001b[1;33m,\u001b[0m \u001b[0madel\u001b[0m \u001b[1;33m=\u001b[0m \u001b[0madel\u001b[0m\u001b[1;33m,\u001b[0m \u001b[0mskipna\u001b[0m \u001b[1;33m=\u001b[0m \u001b[0mskipna\u001b[0m\u001b[1;33m)\u001b[0m\u001b[1;33m\u001b[0m\u001b[0m\n\u001b[0;32m     97\u001b[0m \u001b[1;33m\u001b[0m\u001b[0m\n",
        "\u001b[1;32md:\\openaleapkg\\alep\\src\\alinea\\alep\\disease_outputs.pyc\u001b[0m in \u001b[0;36mget_recorder\u001b[1;34m(*filenames)\u001b[0m\n\u001b[0;32m   1110\u001b[0m     \u001b[0mrecorder\u001b[0m \u001b[1;33m=\u001b[0m \u001b[1;33m[\u001b[0m\u001b[1;33m]\u001b[0m\u001b[1;33m\u001b[0m\u001b[0m\n\u001b[0;32m   1111\u001b[0m     \u001b[1;32mfor\u001b[0m \u001b[0mfile\u001b[0m \u001b[1;32min\u001b[0m \u001b[0mfilenames\u001b[0m\u001b[1;33m:\u001b[0m\u001b[1;33m\u001b[0m\u001b[0m\n\u001b[1;32m-> 1112\u001b[1;33m         \u001b[0mf_rec\u001b[0m \u001b[1;33m=\u001b[0m \u001b[0mopen\u001b[0m\u001b[1;33m(\u001b[0m\u001b[0mfile\u001b[0m\u001b[1;33m)\u001b[0m\u001b[1;33m\u001b[0m\u001b[0m\n\u001b[0m\u001b[0;32m   1113\u001b[0m         \u001b[0mrecorder\u001b[0m\u001b[1;33m.\u001b[0m\u001b[0mappend\u001b[0m\u001b[1;33m(\u001b[0m\u001b[0mpickle\u001b[0m\u001b[1;33m.\u001b[0m\u001b[0mload\u001b[0m\u001b[1;33m(\u001b[0m\u001b[0mf_rec\u001b[0m\u001b[1;33m)\u001b[0m\u001b[1;33m)\u001b[0m\u001b[1;33m\u001b[0m\u001b[0m\n\u001b[0;32m   1114\u001b[0m         \u001b[0mf_rec\u001b[0m\u001b[1;33m.\u001b[0m\u001b[0mclose\u001b[0m\u001b[1;33m(\u001b[0m\u001b[1;33m)\u001b[0m\u001b[1;33m\u001b[0m\u001b[0m\n",
        "\u001b[1;31mIOError\u001b[0m: [Errno 2] No such file or directory: 'recorder_stabtest_tremie12_30pl.pckl'"
       ]
      }
     ],
     "prompt_number": 8
    },
    {
     "cell_type": "code",
     "collapsed": false,
     "input": [
      "df_mean_sim, df_low, df_high, fig, axs = plot_confidence_and_boxplot(data_sim, weather,  leaves = range(1,14),\n",
      "                                                                     variable = 'leaf_senesced_area', xaxis = 'age_leaf',\n",
      "                                                                     xlims = [0, 1500], return_fig = True, display_box = False, \n",
      "                                                                     marker = '', fig_size = (15,30))"
     ],
     "language": "python",
     "metadata": {},
     "outputs": []
    },
    {
     "cell_type": "code",
     "collapsed": false,
     "input": [
      "plot_mean_by_leaf_sim(data_sim, variable = 'pycnidia_coverage', xaxis = 'degree_days', ylims = None)"
     ],
     "language": "python",
     "metadata": {},
     "outputs": []
    },
    {
     "cell_type": "code",
     "collapsed": false,
     "input": [
      "plot_mean_by_leaf_sim(data_sim_var, variable = 'pycnidia_coverage', xaxis = 'degree_days', ylims = None)"
     ],
     "language": "python",
     "metadata": {},
     "outputs": []
    },
    {
     "cell_type": "code",
     "collapsed": false,
     "input": [
      "df_mean, df_low, df_high = get_data_of_interest(data_sim, weather, xaxis = 'age_leaf_vs_flag_lig', error_bars = True)"
     ],
     "language": "python",
     "metadata": {},
     "outputs": []
    },
    {
     "cell_type": "code",
     "collapsed": false,
     "input": [
      "plot_by_leaf(data_sim, weather, variable='pycnidia_coverage', xaxis = 'age_leaf_vs_flag_lig', \n",
      "             leaves = range(1,7), minimum_sample_size = 0, marker = '', error_bars = False)"
     ],
     "language": "python",
     "metadata": {},
     "outputs": []
    },
    {
     "cell_type": "code",
     "collapsed": false,
     "input": [
      "plot_with_weather(data_sim, weather, leaves = range(1, 14), variable = 'pycnidia_coverage', xaxis = 'age_leaf_vs_flag_lig', \n",
      "                  marker = '', xlims = [-1500, 1100], minimum_sample_size = 0)"
     ],
     "language": "python",
     "metadata": {},
     "outputs": []
    },
    {
     "cell_type": "code",
     "collapsed": false,
     "input": [
      "warnings.filterwarnings('ignore')\n",
      "plot_comparison_sim_obs(data_obs, data_sim, weather, xaxis = 'age_leaf', xlims = [0, 1400], display_confidence = True)"
     ],
     "language": "python",
     "metadata": {},
     "outputs": []
    },
    {
     "cell_type": "code",
     "collapsed": false,
     "input": [
      "warnings.filterwarnings('ignore')\n",
      "plot_comparison_sim_obs(data_obs, data_sim_var, weather, xaxis = 'age_leaf', xlims = [0, 1400], display_confidence = True)"
     ],
     "language": "python",
     "metadata": {},
     "outputs": []
    },
    {
     "cell_type": "code",
     "collapsed": false,
     "input": [
      "df_mean_sim, df_low, df_high, fig, axs = plot_confidence_and_boxplot(data_sim, weather,  leaves = range(1,14),\n",
      "                                                                     variable = 'pycnidia_coverage', xaxis = 'age_leaf',\n",
      "                                                                     xlims = [0, 1500], return_fig = True, display_box = False, \n",
      "                                                                     marker = '', fig_size = (15,30))"
     ],
     "language": "python",
     "metadata": {},
     "outputs": []
    },
    {
     "cell_type": "code",
     "collapsed": false,
     "input": [
      "df_mean_sim, df_low, df_high, fig, axs = plot_confidence_and_boxplot(data_sim_var, weather,  leaves = range(1,14),\n",
      "                                                                     variable = 'pycnidia_coverage', xaxis = 'age_leaf',\n",
      "                                                                     xlims = [0, 1500], return_fig = True, display_box = False, \n",
      "                                                                     marker = '', fig_size = (15,30))"
     ],
     "language": "python",
     "metadata": {},
     "outputs": []
    },
    {
     "cell_type": "code",
     "collapsed": false,
     "input": [],
     "language": "python",
     "metadata": {},
     "outputs": []
    }
   ],
   "metadata": {}
  }
 ]
}