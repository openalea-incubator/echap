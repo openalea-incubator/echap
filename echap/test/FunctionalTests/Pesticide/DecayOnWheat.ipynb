{
 "metadata": {
  "name": ""
 },
 "nbformat": 3,
 "nbformat_minor": 0,
 "worksheets": [
  {
   "cells": [
    {
     "cell_type": "heading",
     "level": 1,
     "metadata": {},
     "source": [
      "Study of simulation of decay on realistic wheat"
     ]
    },
    {
     "cell_type": "code",
     "collapsed": false,
     "input": [
      "import pandas\n",
      "from alinea.astk.Weather import sample_weather\n",
      "from alinea.caribu.caribu_star import rain_and_light_star\n",
      "from alinea.echap.user_interface import Mercia_2010, age_at_application, update_pesticides, pesticide_intercept, application_data, echap_recorder, do_record\n",
      "\n",
      "%pylab inline\n",
      "#pylab.rcParams['figure.figsize'] = (15.0, 10.0)"
     ],
     "language": "python",
     "metadata": {},
     "outputs": [
      {
       "output_type": "stream",
       "stream": "stdout",
       "text": [
        "Populating the interactive namespace from numpy and matplotlib\n"
       ]
      }
     ],
     "prompt_number": 8
    },
    {
     "cell_type": "code",
     "collapsed": false,
     "input": [
      "age_at_application"
     ],
     "language": "python",
     "metadata": {},
     "outputs": [
      {
       "metadata": {},
       "output_type": "pyout",
       "prompt_number": 4,
       "text": [
        "{'Mercia_2010': {'2011-04-19': 1166, '2011-05-11': 1500}}"
       ]
      }
     ],
     "prompt_number": 4
    },
    {
     "cell_type": "heading",
     "level": 2,
     "metadata": {},
     "source": [
      "Setup simulation"
     ]
    },
    {
     "cell_type": "code",
     "collapsed": false,
     "input": [
      "appdate = '2011-04-19'\n",
      "application = application_data(appdate=appdate, dose=0.5)\n",
      "g, adel, domain, domain_area, convUnit, nplants = Mercia_2010(age=age_at_application['Mercia_2010'][appdate])\n",
      "rain_and_light_star(g, light_sectors = '16', domain=domain, convUnit=convUnit)\n",
      "seq = pandas.date_range(application['date'].values[0], periods=48, freq='H')"
     ],
     "language": "python",
     "metadata": {},
     "outputs": [
      {
       "output_type": "stream",
       "stream": "stdout",
       "text": [
        ">>> periodise() :  periodise -m scene.can -8 pattern.8 -o scene_8.can \n",
        "defaultPO"
       ]
      },
      {
       "output_type": "stream",
       "stream": "stdout",
       "text": [
        "\n",
        ">>> Canestrad(): canestrad -M scene_8.can -l sky.light -p defaultPO.opt -A  -8 pattern.8   -1     \n",
        "Remove tempfile c:\\users\\fourniec\\appdata\\local\\temp\\tmprwjes0"
       ]
      },
      {
       "output_type": "stream",
       "stream": "stdout",
       "text": [
        "\n",
        ">>> periodise() : "
       ]
      },
      {
       "output_type": "stream",
       "stream": "stdout",
       "text": [
        " periodise -m scene.can -8 pattern.8 -o scene_8.can \n",
        "defaultPO"
       ]
      },
      {
       "output_type": "stream",
       "stream": "stdout",
       "text": [
        "\n",
        ">>> Canestrad(): canestrad -M scene_8.can -l sky.light -p defaultPO.opt -A  -8 pattern.8   -1     \n",
        "Remove tempfile c:\\users\\fourniec\\appdata\\local\\temp\\tmpblfe4p"
       ]
      },
      {
       "output_type": "stream",
       "stream": "stdout",
       "text": [
        "\n"
       ]
      }
     ],
     "prompt_number": 2
    },
    {
     "cell_type": "code",
     "collapsed": false,
     "input": [
      "application"
     ],
     "language": "python",
     "metadata": {},
     "outputs": [
      {
       "html": [
        "<div style=\"max-height:1000px;max-width:1500px;overflow:auto;\">\n",
        "<table border=\"1\" class=\"dataframe\">\n",
        "  <thead>\n",
        "    <tr style=\"text-align: right;\">\n",
        "      <th></th>\n",
        "      <th>date</th>\n",
        "      <th>dose</th>\n",
        "      <th>product_name</th>\n",
        "    </tr>\n",
        "    <tr>\n",
        "      <th>date</th>\n",
        "      <th></th>\n",
        "      <th></th>\n",
        "      <th></th>\n",
        "    </tr>\n",
        "  </thead>\n",
        "  <tbody>\n",
        "    <tr>\n",
        "      <th>2011-04-19 10:00:00</th>\n",
        "      <td> 2011-04-19 10:00:00</td>\n",
        "      <td> 0.5</td>\n",
        "      <td> Opus</td>\n",
        "    </tr>\n",
        "  </tbody>\n",
        "</table>\n",
        "</div>"
       ],
       "metadata": {},
       "output_type": "pyout",
       "prompt_number": 8,
       "text": [
        "                                    date  dose product_name\n",
        "date                                                       \n",
        "2011-04-19 10:00:00  2011-04-19 10:00:00   0.5         Opus"
       ]
      }
     ],
     "prompt_number": 8
    },
    {
     "cell_type": "code",
     "collapsed": false,
     "input": [
      "adel.plot(g)"
     ],
     "language": "python",
     "metadata": {},
     "outputs": [
      {
       "metadata": {},
       "output_type": "pyout",
       "prompt_number": 18,
       "text": [
        "<openalea.plantgl.scenegraph._pglsg.Scene at 0x9b97e10>"
       ]
      }
     ],
     "prompt_number": 18
    },
    {
     "cell_type": "code",
     "collapsed": false,
     "input": [
      "hist(g.property('light_star').values())"
     ],
     "language": "python",
     "metadata": {},
     "outputs": [
      {
       "metadata": {},
       "output_type": "pyout",
       "prompt_number": 23,
       "text": [
        "(array([370,  31,  19,  10,   8,   3,   6,   3,   4,   3]),\n",
        " array([ 0.        ,  0.09699197,  0.19398394,  0.29097592,  0.38796789,\n",
        "        0.48495986,  0.58195183,  0.67894381,  0.77593578,  0.87292775,\n",
        "        0.96991972]),\n",
        " <a list of 10 Patch objects>)"
       ]
      },
      {
       "metadata": {},
       "output_type": "display_data",
       "png": "[encoded data removed]",
       "text": [
        "<matplotlib.figure.Figure at 0x9f5fc10>"
       ]
      }
     ],
     "prompt_number": 23
    },
    {
     "cell_type": "code",
     "collapsed": false,
     "input": [
      "hist(g.property('rain_star').values())"
     ],
     "language": "python",
     "metadata": {},
     "outputs": [
      {
       "metadata": {},
       "output_type": "pyout",
       "prompt_number": 24,
       "text": [
        "(array([357,  37,  16,  13,   8,  11,   5,   3,   4,   3]),\n",
        " array([ 0.        ,  0.09613569,  0.19227139,  0.28840708,  0.38454277,\n",
        "        0.48067847,  0.57681416,  0.67294985,  0.76908555,  0.86522124,\n",
        "        0.96135693]),\n",
        " <a list of 10 Patch objects>)"
       ]
      },
      {
       "metadata": {},
       "output_type": "display_data",
       "png": "[encoded data removed]",
       "text": [
        "<matplotlib.figure.Figure at 0x9f72850>"
       ]
      }
     ],
     "prompt_number": 24
    },
    {
     "cell_type": "code",
     "collapsed": false,
     "input": [
      "pesticide_intercept(g, application)"
     ],
     "language": "python",
     "metadata": {},
     "outputs": [
      {
       "metadata": {},
       "output_type": "pyout",
       "prompt_number": 4,
       "text": [
        "(<openalea.mtg.mtg.MTG at 0x864e9b0>,\n",
        " <alinea.echap.interception_leaf.InterceptModel at 0x8428370>)"
       ]
      }
     ],
     "prompt_number": 4
    },
    {
     "cell_type": "code",
     "collapsed": false,
     "input": [
      "do_record(g, application, echap_recorder)"
     ],
     "language": "python",
     "metadata": {},
     "outputs": [
      {
       "output_type": "stream",
       "stream": "stdout",
       "text": [
        "test ng date 2011-04-19 10:00:00\n"
       ]
      },
      {
       "metadata": {},
       "output_type": "pyout",
       "prompt_number": 9,
       "text": [
        "<openalea.mtg.mtg.MTG at 0x864e9b0>"
       ]
      }
     ],
     "prompt_number": 9
    },
    {
     "cell_type": "code",
     "collapsed": false,
     "input": [
      "df = echap_recorder.get_records()"
     ],
     "language": "python",
     "metadata": {},
     "outputs": [],
     "prompt_number": 11
    },
    {
     "cell_type": "code",
     "collapsed": false,
     "input": [
      "hist(df.surfacic_doses_Epoxiconazole.dropna())"
     ],
     "language": "python",
     "metadata": {},
     "outputs": [
      {
       "metadata": {},
       "output_type": "pyout",
       "prompt_number": 19,
       "text": [
        "(array([275,  24,  16,   9,   5,   7,   4,   1,   4,   1]),\n",
        " array([  0.00000000e+00,   4.30573363e-07,   8.61146725e-07,\n",
        "         1.29172009e-06,   1.72229345e-06,   2.15286681e-06,\n",
        "         2.58344018e-06,   3.01401354e-06,   3.44458690e-06,\n",
        "         3.87516026e-06,   4.30573363e-06]),\n",
        " <a list of 10 Patch objects>)"
       ]
      },
      {
       "metadata": {},
       "output_type": "display_data",
       "png": "[encoded data removed]",
       "text": [
        "<matplotlib.figure.Figure at 0x8f6fc50>"
       ]
      }
     ],
     "prompt_number": 19
    },
    {
     "cell_type": "heading",
     "level": 2,
     "metadata": {},
     "source": [
      "Run simulation to get decay"
     ]
    },
    {
     "cell_type": "code",
     "collapsed": false,
     "input": [
      "_, weather = sample_weather()\n",
      "climates = weather.split_weather(24,seq[0],2)"
     ],
     "language": "python",
     "metadata": {},
     "outputs": [],
     "prompt_number": 20
    },
    {
     "cell_type": "code",
     "collapsed": false,
     "input": [
      "for (wdata in climates):\n",
      "    update_pesticides\n",
      "    dorecord"
     ],
     "language": "python",
     "metadata": {},
     "outputs": []
    }
   ],
   "metadata": {}
  }
 ]
}