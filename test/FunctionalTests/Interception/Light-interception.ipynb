{
 "metadata": {
  "name": ""
 },
 "nbformat": 3,
 "nbformat_minor": 0,
 "worksheets": [
  {
   "cells": [
    {
     "cell_type": "heading",
     "level": 1,
     "metadata": {},
     "source": [
      "Comparison to light -interception data"
     ]
    },
    {
     "cell_type": "markdown",
     "metadata": {},
     "source": [
      "Here we compared the reconstruction to data of PAR mesures above and below the canopy\n",
      "\n",
      "Data are for xx years and genotype ?\n",
      "\n",
      "- Sebastien willprovide PAR above PAR belo Rht3-Mercia : mean/sd for each day (micromol)"
     ]
    }
   ],
   "metadata": {}
  }
 ]
}